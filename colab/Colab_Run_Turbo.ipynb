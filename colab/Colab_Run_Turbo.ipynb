{
  "cells": [
    {
      "cell_type": "markdown",
      "metadata": {},
      "source": [
        "# Colab A100 クイックスタート\n",
        "\n",
        "- ランタイム: GPU（A100 推奨）に切替\n",
        "- 依存をインストールし、A100最適化の既定で実行\n",
        "- 保存: first_seen.csv / stats.csv を逐次保存（`--autosave-sec`）\n",
        "- さらに高速: `accelerated_counter.py` のバッチ推論（追跡OFF）を利用\n",
        "\n"
      ]
    },
    {
      "cell_type": "code",
      "execution_count": null,
      "metadata": {},
      "outputs": [],
      "source": [
        "%cd /content/colab-turbo-counter\n",
        "pip -q install ultralytics torch torchvision opencv-python-headless shapely pandas tqdm deepface gspread oauth2client onnxruntime-gpu\n"
      ]
    },
    {
      "cell_type": "code",
      "execution_count": null,
      "metadata": {},
      "outputs": [],
      "source": [
        "python colab/turbo_counter.py \\\n",
        "  --video \"/content/drive/MyDrive/アオハル祭/input_videos/merged_20250816_1141-1951.mkv\" \\\n",
        "  --outdir \"out_20250816\" \\\n",
        "  --cam-id 20250816 \\\n",
        "  --device cuda --progress --progress-sec 2 --autosave-sec 60\n"
      ]
    },
    {
      "cell_type": "code",
      "execution_count": null,
      "metadata": {},
      "outputs": [],
      "source": [
        "python colab/accelerated_counter.py \\\n",
        "  --video \"/content/drive/MyDrive/アオハル祭/input_videos/merged_20250816_1141-1951.mkv\" \\\n",
        "  --outdir \"out_20250816_ultralite\" \\\n",
        "  --cam-id 20250816 \\\n",
        "  --device cuda --mode ultralite --half --no-tracking \\\n",
        "  --batch 128 --imgsz 320 --vid-stride 5 --max-det 80 \\\n",
        "  --progress --progress-sec 2 --autosave-sec 60\n"
      ]
    },
    {
      "cell_type": "code",
      "execution_count": null,
      "metadata": {},
      "outputs": [],
      "source": [
        "python colab/accelerated_counter.py \\\n",
        "  --video \"/content/drive/MyDrive/アオハル祭/input_videos/merged_20250816_1141-1951.mkv\" \\\n",
        "  --outdir \"out_20250816_track\" \\\n",
        "  --cam-id 20250816 \\\n",
        "  --device cuda --mode fast --half \\\n",
        "  --progress --progress-sec 2 --autosave-sec 60\n"
      ]
    },
    {
      "cell_type": "code",
      "execution_count": null,
      "metadata": {},
      "outputs": [],
      "source": [
        "python colab/accelerated_counter.py \\\n",
        "  --video \"/content/drive/MyDrive/アオハル祭/input_videos/merged_20250816_1141-1951.mkv\" \\\n",
        "  --outdir \"out_20250816_onnx\" \\\n",
        "  --cam-id 20250816 \\\n",
        "  --device cuda --mode ultrafast --half --no-tracking --onnx \\\n",
        "  --batch 128 --imgsz 416 --vid-stride 4 --max-det 120 \\\n",
        "  --progress --progress-sec 2\n"
      ]
    },
    {
      "cell_type": "code",
      "execution_count": null,
      "metadata": {},
      "outputs": [],
      "source": [
        "python colab/show_preview.py --video \"/content/drive/MyDrive/アオハル祭/input_videos/merged_20250816_1141-1951.mkv\" --step 120 --limit 3\n"
      ]
    },
    {
      "cell_type": "markdown",
      "metadata": {},
      "source": [
        "## 複数日の結果をマージ（重複統合）\n",
        "- 入力: 各出力フォルダ内の `first_seen.csv` と任意の `turbo_embeddings.npz`\n",
        "- 出力: `merged_first_seen.csv`, `mapping.csv`, `clusters.csv`, `stats.csv`\n",
        "- しきい値: `--alias-threshold`（既定0.92、上げるほど安全側）\n"
      ]
    },
    {
      "cell_type": "code",
      "execution_count": null,
      "metadata": {},
      "outputs": [],
      "source": [
        "python colab/merge_turbo.py \\\n",
        "  --inputs \\\n",
        "  \"/content/drive/MyDrive/アオハル祭/out_20250816_ultralite\" \\\n",
        "  \"/content/drive/MyDrive/アオハル祭/out_20250817_ultralite\" \\\n",
        "  --outdir \"/content/drive/MyDrive/アオハル祭/merged_all\" \\\n",
        "  --alias-threshold 0.92\n"
      ]
    },
    {
      "cell_type": "markdown",
      "metadata": {},
      "source": []
    },
    {
      "cell_type": "code",
      "execution_count": null,
      "metadata": {},
      "outputs": [],
      "source": [
        "# Colab Ultra-Fast People Counter (Turbo)\n",
        "\n",
        "GUIなし、オーバーレイなし。初回観測のみをCSV出力します。\n"
      ]
    },
    {
      "cell_type": "code",
      "execution_count": null,
      "metadata": {},
      "outputs": [],
      "source": [
        "!nvidia-smi || echo 'No GPU'\n",
        "!python -V\n",
        "!pip -q install ultralytics torch torchvision opencv-python-headless shapely pandas tqdm\n"
      ]
    },
    {
      "cell_type": "code",
      "execution_count": null,
      "metadata": {},
      "outputs": [],
      "source": [
        "# 左ペイン(ファイル)で `colab/turbo_counter.py` をアップロードしてください。\n",
        "# または、下のセルでGoogle Driveをマウントして直接参照することも可能です。\n",
        "print('Upload colab/turbo_counter.py via left panel or mount Drive to use existing file.')\n"
      ]
    },
    {
      "cell_type": "code",
      "execution_count": null,
      "metadata": {},
      "outputs": [],
      "source": [
        "from google.colab import drive\n",
        "drive.mount('/content/drive')\n",
        "\n",
        "video16 = '/content/drive/MyDrive/merged_20250816.mp4'\n",
        "out16 = '/content/turbo_20250816'\n",
        "\n",
        "!python colab/turbo_counter.py --video \"$video16\" --outdir \"$out16\" --cam-id 20250816 \\\n",
        "  --model yolov8n.pt --device auto --conf 0.5 --imgsz 640 --vid-stride 2 --max-det 200 --progress --progress-sec 2\n"
      ]
    }
  ],
  "metadata": {
    "language_info": {
      "name": "python"
    }
  },
  "nbformat": 4,
  "nbformat_minor": 2
}

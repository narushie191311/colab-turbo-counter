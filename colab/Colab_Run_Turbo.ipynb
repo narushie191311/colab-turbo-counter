{
  "cells": [
    {
      "cell_type": "code",
      "execution_count": null,
      "metadata": {},
      "outputs": [],
      "source": [
        "# Colab Ultra-Fast People Counter (Turbo)\n",
        "\n",
        "GUIなし、オーバーレイなし。初回観測のみをCSV出力します。\n"
      ]
    },
    {
      "cell_type": "code",
      "execution_count": null,
      "metadata": {},
      "outputs": [],
      "source": [
        "!nvidia-smi || echo 'No GPU'\n",
        "!python -V\n",
        "!pip -q install ultralytics torch torchvision opencv-python-headless shapely pandas tqdm\n"
      ]
    },
    {
      "cell_type": "code",
      "execution_count": null,
      "metadata": {},
      "outputs": [],
      "source": [
        "# 左ペイン(ファイル)で `colab/turbo_counter.py` をアップロードしてください。\n",
        "# または、下のセルでGoogle Driveをマウントして直接参照することも可能です。\n",
        "print('Upload colab/turbo_counter.py via left panel or mount Drive to use existing file.')\n"
      ]
    },
    {
      "cell_type": "code",
      "execution_count": null,
      "metadata": {},
      "outputs": [],
      "source": [
        "from google.colab import drive\n",
        "drive.mount('/content/drive')\n",
        "\n",
        "video16 = '/content/drive/MyDrive/merged_20250816.mp4'\n",
        "out16 = '/content/turbo_20250816'\n",
        "\n",
        "!python colab/turbo_counter.py --video \"$video16\" --outdir \"$out16\" --cam-id 20250816 \\\n",
        "  --model yolov8n.pt --device auto --conf 0.5 --imgsz 640 --vid-stride 2 --max-det 200 --progress --progress-sec 2\n"
      ]
    }
  ],
  "metadata": {
    "language_info": {
      "name": "python"
    }
  },
  "nbformat": 4,
  "nbformat_minor": 2
}
